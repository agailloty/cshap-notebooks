{
 "cells": [
  {
   "cell_type": "markdown",
   "id": "a95d9e37-2164-4173-8da1-60ce48f2a07c",
   "metadata": {},
   "source": [
    "# Analyse de données de joueurs de football à l'aide du web scraping avec C# et HtmlAgilityPack\r\n",
    "\r\n",
    "Dans ce projet j'utilise l'environnement Jupyter Notebook avec le langage C# et la bibliothèque HtmlAgilityPack pour effectuer extraire des données du web (webscraping) du site Sofifa. Sofifa est une base de données en ligne de joueurs de football.\r\n",
    "\r\n",
    "## Extraction des données\r\n",
    "Nous commençons par l'importation des packages nécessaires et le chargement du site Sofifa à l'aide de HtmlAgilityPack. Ensuite, nous sélectionnons les nœuds HTML contenant les informations des joueurs à l'aide de requêtes XPath. Les données importantes telles que le nom, l'âge, la note globale, l'équipe et le salaire sont extraites en utilisant des méthodes spécifiques.\r\n",
    "\r\n",
    "## Importation des packages\r\n",
    "\r\n",
    "Nous commençons par importer HtmlAgilityPack pour le traitement HTML."
   ]
  },
  {
   "cell_type": "code",
   "execution_count": 32,
   "id": "419b5bfc-3aec-4e79-af5c-2cd73f6854d6",
   "metadata": {},
   "outputs": [
    {
     "data": {
      "text/html": [
       "<div><div></div><div></div><div><strong>Installed Packages</strong><ul><li><span>HtmlAgilityPack, 1.11.60</span></li></ul></div></div>"
      ]
     },
     "metadata": {},
     "output_type": "display_data"
    }
   ],
   "source": [
    "#r \"nuget: HtmlAgilityPack, 1.11.60\""
   ]
  },
  {
   "cell_type": "code",
   "execution_count": 33,
   "id": "906f2458-6b14-4195-b625-3b00c1c51c00",
   "metadata": {},
   "outputs": [],
   "source": [
    "using HtmlAgilityPack;"
   ]
  },
  {
   "cell_type": "markdown",
   "id": "539ecdf8-1bdc-4503-8b69-b194dc5440f9",
   "metadata": {},
   "source": [
    "## Chargement du site et extraction des données\r\n",
    "\r\n",
    "Nous chargeons le site Sofifa et sélectionnons les nœuds HTML contenant les informations des joueurs à l'aide de XPath."
   ]
  },
  {
   "cell_type": "code",
   "execution_count": 34,
   "id": "f9a2c496-47e6-44ef-824a-183ecb60547f",
   "metadata": {},
   "outputs": [],
   "source": [
    "string sofifa = \"https://sofifa.com/players\";"
   ]
  },
  {
   "cell_type": "code",
   "execution_count": 35,
   "id": "80454e9a-69fa-4b51-9388-7e1c9d141217",
   "metadata": {},
   "outputs": [],
   "source": [
    "HtmlWeb web = new HtmlWeb();\n",
    "var htmlDoc = web.Load(sofifa);"
   ]
  },
  {
   "cell_type": "markdown",
   "id": "41f6c3e7-74de-4c72-b3a9-523cec5cb5d1",
   "metadata": {},
   "source": [
    "1. `string sofifa = \"https://sofifa.com/players\";`\n",
    "\n",
    "   - Cette ligne crée une variable `sofifa` et lui assigne la valeur `\"https://sofifa.com/players\"`. Cette URL représente la page web de Sofifa où se trouvent les informations sur les joueurs de football.\n",
    "\n",
    "2. `HtmlWeb web = new HtmlWeb();`\n",
    "\n",
    "   - Cette ligne crée une nouvelle instance de la classe `HtmlWeb`. Cette classe est fournie par la bibliothèque HtmlAgilityPack et est utilisée pour télécharger le contenu HTML d'une URL spécifiée.\n",
    "\n",
    "3. `var htmlDoc = web.Load(sofifa);`\n",
    "\n",
    "   - Cette ligne utilise l'instance de `HtmlWeb` créée précédemment pour charger le contenu HTML de l'URL spécifiée dans la variable `sofifa`. Le contenu HTML est téléchargé depuis le site web et stocké dans la variable `htmlDoc`. Cette variable contiendra ensuite le document HTML de la page Sofifa, ce qui permettra d'extraire les informations des joueurs à partir de celui-ci.\n",
    "\n",
    "Nous utilisons XPath pour sélectionner les noms des joueurs dans la page HTML et les affichons."
   ]
  },
  {
   "cell_type": "code",
   "execution_count": 47,
   "id": "4830cfc8-aa53-4fc0-915c-79c39d920b91",
   "metadata": {},
   "outputs": [
    {
     "name": "stdout",
     "output_type": "stream",
     "text": [
      "0 - Random\n",
      "1 - M. Wieffer\n",
      "2 - Lucas Paquetá\n",
      "3 - W. Odobert\n",
      "4 - M. Salah\n",
      "5 - C. Palmer\n",
      "6 - M. O'Riley\n",
      "7 - A. Isak\n",
      "8 - G. Rodríguez\n",
      "9 - W. Zaïre-Emery\n",
      "10 - V. Gyökeres\n",
      "11 - A. Güler\n",
      "12 - K. Mainoo\n",
      "13 - K. Havertz\n",
      "14 - J. Zirkzee\n"
     ]
    }
   ],
   "source": [
    "htmlDoc.DocumentNode\n",
    "    .SelectNodes(\"//a[starts-with(@href, '/player/')]\")\n",
    "    .Select((node, index) => (node, index))\n",
    "    .Take(15)\n",
    "    .ToList()\n",
    "    .ForEach(res => Console.WriteLine($\"{res.index} - {res.node.InnerText}\"))"
   ]
  },
  {
   "cell_type": "markdown",
   "id": "d3c8dc09-c1f0-4c30-8aac-12e0d51e9fe1",
   "metadata": {},
   "source": [
    "Il est relativement simple avec XPATH de parcourir toute la page web et sélectionner le contenu texte d'une balise web. C'est ce que nous venons de faire pour extraire les noms des joueurs. Toutefois nous aimerons récupérer d'autres informations concernant chaque joueur. \r\n",
    "\r\n",
    "Pour cela, regardons comment la page HTML est structurée : \r\n",
    "\r\n",
    "![](htmlSofifa.PNG)"
   ]
  },
  {
   "cell_type": "code",
   "execution_count": null,
   "id": "2384176b-3219-4229-b3b8-294aa8a917eb",
   "metadata": {},
   "outputs": [],
   "source": []
  },
  {
   "cell_type": "markdown",
   "id": "c25c8d05-545a-4f0d-9ba8-130f3c2fb2b4",
   "metadata": {},
   "source": [
    "Je veux extraire pour chaque joueur : nom, l'âge, la note globale, l'équipe et le salaire.\n",
    "La strucure HTML est ainsi constituée :  \n",
    "\n",
    "- Toutes les données des joueurs sont groupées dans une balise **table** \n",
    "- Le contenu du tableau se trouve dans la sous-balise **tbody**\n",
    "- Les lignes pour chaque joueur apparaissent dans les balises **tr**\n",
    "- Le contenu de chaque colonne est dans la balise **td**\n",
    "  \n",
    "Les données telles que l'âge et le salaire sont faciles à récupérer car nous voyons qu'elles ont explicitement des propriétés data-col définies au niveau des td. \n",
    "\n",
    "La manière la plus sûre de récupérer les données est de procéder à l'extraction ligne par ligne, c'est à dire de prendre pour point d'entrée chaque balise **tr**.   \n",
    "Pour ce faire, nous allons dans un premier sélectionner le noeud tbody."
   ]
  },
  {
   "cell_type": "code",
   "execution_count": 38,
   "id": "3ef7517f-9cd8-413b-a9ec-fbba7894dfab",
   "metadata": {},
   "outputs": [],
   "source": [
    "var tbody = htmlDoc.DocumentNode.SelectSingleNode(\"//tbody\");"
   ]
  },
  {
   "cell_type": "markdown",
   "id": "b32e5f4a-2aba-4e7a-bc33-2a4e365ea10f",
   "metadata": {},
   "source": [
    "A l'aide du XPATH nous sélectionnons entièrement le noeud **tbody**."
   ]
  },
  {
   "cell_type": "markdown",
   "id": "e0a30f80-184f-4490-9ff7-8f7e05015e3a",
   "metadata": {},
   "source": [
    "Comptons le nombre de balises tr se trouvant dans ce noeud"
   ]
  },
  {
   "cell_type": "code",
   "execution_count": 40,
   "id": "f7bf98a0-a369-4214-9e72-2fca53687ed3",
   "metadata": {},
   "outputs": [
    {
     "data": {
      "text/html": [
       "<div class=\"dni-plaintext\"><pre>61</pre></div><style>\r\n",
       ".dni-code-hint {\r\n",
       "    font-style: italic;\r\n",
       "    overflow: hidden;\r\n",
       "    white-space: nowrap;\r\n",
       "}\r\n",
       ".dni-treeview {\r\n",
       "    white-space: nowrap;\r\n",
       "}\r\n",
       ".dni-treeview td {\r\n",
       "    vertical-align: top;\r\n",
       "    text-align: start;\r\n",
       "}\r\n",
       "details.dni-treeview {\r\n",
       "    padding-left: 1em;\r\n",
       "}\r\n",
       "table td {\r\n",
       "    text-align: start;\r\n",
       "}\r\n",
       "table tr { \r\n",
       "    vertical-align: top; \r\n",
       "    margin: 0em 0px;\r\n",
       "}\r\n",
       "table tr td pre \r\n",
       "{ \r\n",
       "    vertical-align: top !important; \r\n",
       "    margin: 0em 0px !important;\r\n",
       "} \r\n",
       "table th {\r\n",
       "    text-align: start;\r\n",
       "}\r\n",
       "</style>"
      ]
     },
     "execution_count": 40,
     "metadata": {},
     "output_type": "execute_result"
    }
   ],
   "source": [
    "tbody.SelectNodes(\"//tr\").Count()"
   ]
  },
  {
   "cell_type": "markdown",
   "id": "73375ae4-fa2f-45a1-bf25-2099043cf887",
   "metadata": {},
   "source": [
    "Il y a 61 lignes dans la page que nous explorons. \n",
    "Affichons un aperçu du contenu HTML des deux premières lignes.  "
   ]
  },
  {
   "cell_type": "code",
   "execution_count": 49,
   "id": "c72b68fd-f89f-435e-8f60-65f2131ff73a",
   "metadata": {},
   "outputs": [
    {
     "name": "stdout",
     "output_type": "stream",
     "text": [
      "-- \n",
      "<th class=\"a1\"></th>\n",
      "<th class=\"s20\">Name</th><th class=\"d2\"><a rel=\"nofollow\" href=\"/players?col=ae&sort=asc\" data-tippy-top=\"\" data-tippy-content=\"Age\"><span class=\"sorter\"></span>Age</a></th><th class=\"d2\"><a rel=\"nofollow\" href=\"/players?col=oa&sort=desc\" data-tippy-top=\"\" data-tippy-content=\"Overall rating\"><span class=\"sorter\"></span>Overall rating</a></th><th class=\"d2\"><a rel=\"nofollow\" href=\"/players?col=pt&sort=desc\" data-tippy-top=\"\" data-tippy-content=\"Potential\"><span class=\"sorter\"></span>Potential</a></th><th class=\"s20\"><a rel=\"nofollow\" href=\"/players?col=tm&sort=asc\" data-tippy-top=\"\" data-tippy-content=\"Team & Contract\"><span class=\"sorter\"></span>Team & Contract</a></th>\n",
      "<th class=\"d6\"><a rel=\"nofollow\" href=\"/players?col=vl&sort=asc\" data-tippy-top=\"\" data-tippy-content=\"Value\"><span class=\"sorter\"></span>Value</a></th><th class=\"d6\"><a rel=\"nofollow\" href=\"/players?col=wg&sort=asc\" data-tippy-top=\"\" data-tippy-content=\"Wage\"><span class=\"sorter\"></span>Wage</a></th><th class=\"d5\"><a rel=\"nofollow\" href=\"/players?col=tt&sort=desc\" data-tippy-top=\"\" data-tippy-content=\"Total stats\"><span class=\"sorter\"></span>Total stats</a></th><th></th>\n",
      "\n",
      "-- \n",
      "<td class=\"a1\"><figure class=\"avatar\">\n",
      "<img alt=\"\" data-src=\"https://cdn.sofifa.net/players/248/793/24_60.png\" data-srcset=\"https://cdn.sofifa.net/players/248/793/24_120.png 2x, https://cdn.sofifa.net/players/248/793/24_180.png 3x\" alt=\"\" src=\"https://cdn.sofifa.net/player_0.svg\" data-root=\"https://cdn.sofifa.net/\" data-type=\"player\" id=\"248793\" class=\"player-check\"></figure></td>\n",
      "<td>\n",
      "<a href=\"/player/248793/mats-wieffer/240038/\" data-tippy-top=\"\" data-tippy-content=\"Mats Wieffer\">M. Wieffer</a><div><img title=\"Netherlands\" alt=\"\" src=\"https://cdn.sofifa.net/pixel.gif\" data-src=\"https://cdn.sofifa.net/flags/nl.png\" data-srcset=\"https://cdn.sofifa.net/flags/nl@2x.png 2x, https://cdn.sofifa.net/flags/nl@3x.png 3x\" class=\"flag\" width=\"21\" height=\"16\"> <a rel=\"nofollow\" href=\"/players?pn=10\"><span class=\"pos pos10\">CDM</span></a> <a rel=\"nofollow\" href=\"/players?pn=14\"><span class=\"pos pos14\">CM</span></a></div>\n",
      "</td><td class=\"d2\" data-col=\"ae\">23</td><td class=\"d2\" data-col=\"oa\"><em title=\"78\">78</em></td><td class=\"d2\" data-col=\"pt\"><em title=\"84\">84</em></td><td class=\"\">\n",
      "<figure class=\"avatar small transparent\">\n",
      "<img alt=\"\" class=\"team\" data-src=\"https://cdn.sofifa.net/meta/team/73/30.png\" data-srcset=\"https://cdn.sofifa.net/meta/team/73/60.png 2x, https://cdn.sofifa.net/meta/team/73/90.png 3x\" src=\"https://cdn.sofifa.net/empty.svg\" data-root=\"https://cdn.sofifa.net/\" data-type=\"team\">\n",
      "</figure>\n",
      "<a href=\"/team/246/feyenoord/\">Feyenoord</a><div class=\"sub\">\n",
      "2022 ~ 2027</div>\n",
      "</td><td class=\"d6\" data-col=\"vl\">€20.5M</td><td class=\"d6\" data-col=\"wg\">€15K</td><td class=\"d5\" data-col=\"tt\"><em>2050</em></td><td></td>\n",
      "\n"
     ]
    }
   ],
   "source": [
    "tbody.SelectNodes(\"//tr\")\n",
    "    .Select(x => x.InnerHtml)\n",
    "    .Take(2)\n",
    "    .ToList()\n",
    "    .ForEach(x => Console.WriteLine($\"-- {x}\"))"
   ]
  },
  {
   "cell_type": "markdown",
   "id": "9e540abc-e209-4a43-a37d-d6beface44ff",
   "metadata": {},
   "source": [
    "La première ligne ne contient pas les données des joueurs mais uniquement l'entête des données.  \n",
    "Nous prenons en compte cette information lorsque nous allons extraire le contenu des données. Nous sauterons la première ligne. "
   ]
  },
  {
   "cell_type": "markdown",
   "id": "f6c6dad9-2d12-467f-98f3-ad547581d2e0",
   "metadata": {},
   "source": [
    "### Définir un enregistrement (record) pour représenter une ligne \n",
    "\n",
    "Nous définissons une classe `Player` pour stocker les informations de chaque joueur. Ensuite, nous créons une méthode `ExtractPlayer` pour extraire les données pertinentes telles que le nom, l'âge, la note globale, l'équipe et le salaire."
   ]
  },
  {
   "cell_type": "code",
   "execution_count": 71,
   "id": "5c4fabe8-e9d2-466b-995b-5e2f2fc420b5",
   "metadata": {},
   "outputs": [],
   "source": [
    "record Player(string Name, \n",
    "              int Age, \n",
    "              int? OverallRating, \n",
    "              string TeamContract, \n",
    "              double? Wage);"
   ]
  },
  {
   "cell_type": "code",
   "execution_count": 72,
   "id": "18c01b7c-3cd5-4091-8526-d674ef1cdaec",
   "metadata": {},
   "outputs": [],
   "source": [
    "Player ExtractPlayer(HtmlNode node)\n",
    "{\n",
    "    string name = node.SelectSingleNode(\".//a[starts-with(@href, '/player/')]\").InnerText;\n",
    "    string extractedAge = node.SelectSingleNode(\".//td[@data-col='ae']\").InnerText;\n",
    "    int.TryParse(extractedAge, out int age);\n",
    "    string extractedOverall = node.SelectSingleNode(\".//td[@data-col='oa']\").InnerText;\n",
    "    int.TryParse(extractedOverall, out int overall);\n",
    "    string contract = node.SelectSingleNode(\".//a[starts-with(@href, '/team/')]\").InnerText;\n",
    "    string extractedWage = node.SelectSingleNode(\".//td[@data-col='wg']\").InnerText;\n",
    "    extractedWage = new string(extractedWage.Where(c=> (Char.IsDigit(c) || c=='.'|| c==',')).ToArray());\n",
    "\n",
    "    double.TryParse(extractedWage, out double wage);\n",
    "    \n",
    "    var player = new Player(name, age, overall, contract, wage);\n",
    "\n",
    "    return player;\n",
    "}"
   ]
  },
  {
   "cell_type": "markdown",
   "id": "8a7a0eb3-7f98-4eff-aa93-f262241a24a6",
   "metadata": {},
   "source": [
    "1. `record Player(string Name, int Age, int OverallRating, string TeamContract, double? Wage);`\r\n",
    "\r\n",
    "   - Cette ligne définit un enregistrement (record) nommé `Player`, qui représente un joueur de football. Il a cinq propriétés : `Name`, `Age`, `OverallRating`, `TeamContract` et `Wage`. Ces propriétés correspondent aux informations que nous extrayons pour chaque joueur.\r\n",
    "\r\n",
    "2. `Player ExtractPlayer(HtmlNode node)`\r\n",
    "\r\n",
    "   - Cette ligne définit une méthode appelée `ExtractPlayer`, qui prend en paramètre un nœud HTML (`HtmlNode`). Cette méthode extrait les informations d'un joueur à partir d'un nœud HTML et les retourne sous forme d'un objet `Player`.\r\n",
    "\r\n",
    "3. `string name = node.SelectSingleNode(\".//a[starts-with(@href, '/player/')]\").InnerText;`\r\n",
    "\r\n",
    "   - Cette ligne extrait le nom du joueur en recherchant une balise `<a>` qui commence par l'attribut `href` contenant `'/player/'` à l'intérieur du nœud HTML donné, puis récupère son texte interne à l'aide de la propriété `InnerText`.\r\n",
    "\r\n",
    "4. `string extractedAge = node.SelectSingleNode(\".//td[@data-col='ae']\").InnerText;`\r\n",
    "\r\n",
    "   - Cette ligne extrait l'âge du joueur en recherchant une balise `<td>` avec l'attribut `data-col` égal à `'ae'` à l'intérieur du nœud HTML donné, puis récupère son texte interne à l'aide de la propriété `InnerText`.\r\n",
    "\r\n",
    "5. `int.TryParse(extractedAge, out int age);`\r\n",
    "\r\n",
    "   - Cette ligne tente de convertir la chaîne `extractedAge` en un entier (`int`). Si la conversion réussit, elle stocke la valeur dans la variable `age`.\r\n",
    "\r\n",
    "6. `string extractedOverall = node.SelectSingleNode(\".//td[@data-col='oa']\").InnerText;`\r\n",
    "\r\n",
    "   - Cette ligne extrait la note globale du joueur de la même manière que l'âge.\r\n",
    "\r\n",
    "7. `int.TryParse(extractedOverall, out int overall);`\r\n",
    "\r\n",
    "   - Cette ligne tente de convertir la chaîne `extractedOverall` en un entier (`int`). Si la conversion réussit, elle stocke la valeur dans la variable `overall`.\r\n",
    "\r\n",
    "8. `string contract = node.SelectSingleNode(\".//a[starts-with(@href, '/team/')]\").InnerText;`\r\n",
    "\r\n",
    "   - Cette ligne extrait le contrat de l'équipe du joueur en recherchant une balise `<a>` qui commence par l'attribut `href` contenant `'/team/'` à l'intérieur du nœud HTML donné, puis récupère son texte interne à l'aide de la propriété `InnerText`.\r\n",
    "\r\n",
    "9. `string extractedWage = node.SelectSingleNode(\".//td[@data-col='wg']\").InnerText;`\r\n",
    "\r\n",
    "   - Cette ligne extrait le salaire du joueur de la même manière que l'âge et la note globale.\r\n",
    "\r\n",
    "10. `extractedWage = new string(extractedWage.Where(c=> (Char.IsDigit(c) || c=='.'|| c==',')).ToArray());`\r\n",
    "\r\n",
    "    - Cette ligne filtre la chaîne `extractedWage` pour ne conserver que les caractères numériques, le point (`.`) et la virgule (`,`). Cela est nécessaire car le salaire peut contenir des symboles de devise ou d'autres caractères non numériques.\r\n",
    "\r\n",
    "11. `double.TryParse(extractedWage, out double wage);`\r\n",
    "\r\n",
    "    - Cette ligne tente de convertir la chaîne `extractedWage` en un nombre à virgule flottante (`double`). Si la conversion réussit, elle stocke la valeur dans la variable `wage`.\r\n",
    "\r\n",
    "12. `var player = new Player(name, age, overall, contract, wage);`\r\n",
    "\r\n",
    "    - Cette ligne crée une nouvelle instance de la classe `Player` avec les informations extraites du joueur.\r\n",
    "\r\n",
    "13. `return player;`\r\n",
    "\r\n",
    "    - Cette ligne retourne l'objet `Player` créé à partir des informations extraites.\r\n",
    "\r\n",
    "En combinant toutes ces lignes, la méthode `ExtractPlayer` prend un nœud HTML représentant un joueur de football, extrait ses informations et retourne un objet `Player` contenant ces informations.\r\n"
   ]
  },
  {
   "cell_type": "code",
   "execution_count": 83,
   "id": "1e8f9d5a-0f09-4603-9143-7c3282ada0c6",
   "metadata": {},
   "outputs": [],
   "source": [
    "var players =  tbody\n",
    "    .SelectNodes(\"//tr\")\n",
    "    .Skip(1)\n",
    "    .Select(x => ExtractPlayer(x));"
   ]
  },
  {
   "cell_type": "markdown",
   "id": "3a08ee7d-7ec7-4659-b1a5-906082f35d89",
   "metadata": {},
   "source": [
    "## Afficher les informations des joueurs"
   ]
  },
  {
   "cell_type": "code",
   "execution_count": 80,
   "id": "31e577ae-42ab-42b5-aa4f-241c94359e46",
   "metadata": {},
   "outputs": [],
   "source": [
    "void Display(Player p) =>\n",
    "    Console.WriteLine($@\"\n",
    "    Name: {p.Name} \n",
    "    Age: {p.Age}\n",
    "    Overall Rating: {p.OverallRating}\n",
    "    Team/Contract: {p.TeamContract}\n",
    "    Wage: {p.Wage}\");"
   ]
  },
  {
   "cell_type": "code",
   "execution_count": 84,
   "id": "da39c068-be4e-4d0b-add0-73917ceb6eec",
   "metadata": {},
   "outputs": [
    {
     "name": "stdout",
     "output_type": "stream",
     "text": [
      "\n",
      "    Name: M. Wieffer \n",
      "    Age: 23\n",
      "    Overall Rating: 78\n",
      "    Team/Contract: Feyenoord\n",
      "    Wage: 15\n",
      "\n",
      "    Name: Lucas Paquetá \n",
      "    Age: 25\n",
      "    Overall Rating: 82\n",
      "    Team/Contract: West Ham United\n",
      "    Wage: 85\n",
      "\n",
      "    Name: W. Odobert \n",
      "    Age: 18\n",
      "    Overall Rating: 0\n",
      "    Team/Contract: Burnley\n",
      "    Wage: 10\n",
      "\n",
      "    Name: M. Salah \n",
      "    Age: 31\n",
      "    Overall Rating: 89\n",
      "    Team/Contract: Liverpool\n",
      "    Wage: 260\n",
      "\n",
      "    Name: C. Palmer \n",
      "    Age: 21\n",
      "    Overall Rating: 0\n",
      "    Team/Contract: Chelsea\n",
      "    Wage: 76\n"
     ]
    }
   ],
   "source": [
    "players\n",
    "    .Take(5)\n",
    "    .ToList()\n",
    "    .ForEach(p => Display(p))"
   ]
  },
  {
   "cell_type": "markdown",
   "id": "00e6b6ad-b332-45f3-8318-4fc140207e09",
   "metadata": {},
   "source": [
    "## Conclusion\r\n",
    "Ce projet démontre comment utiliser le web scraping avec C# et HtmlAgilityPack pour extraire et analyser des données à partir de sites Web. Dans cet exemple, nous avons extrait les informations des joueurs de football à partir de Sofifa, en mettant en évidence le processus de collecte, de traitement et d'affichage des données. Cette approche peut être étendue pour analyser d'autres types de données sur le web, offrant ainsi un large éventail d'applications dans le domaine de l'analyse de données et de la science des données."
   ]
  }
 ],
 "metadata": {
  "kernelspec": {
   "display_name": ".NET (C#)",
   "language": "C#",
   "name": ".net-csharp"
  },
  "language_info": {
   "file_extension": ".cs",
   "mimetype": "text/x-csharp",
   "name": "C#",
   "pygments_lexer": "csharp",
   "version": "12.0"
  }
 },
 "nbformat": 4,
 "nbformat_minor": 5
}
